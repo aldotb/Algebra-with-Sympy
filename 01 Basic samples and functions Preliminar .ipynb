{
 "cells": [
  {
   "cell_type": "markdown",
   "id": "42808ce5-9b3d-4ad6-abf5-ba832fb3a599",
   "metadata": {},
   "source": [
    "#### Library :  Libaldo.py\n",
    "* This library include:\n",
    "  * sympy.py The best symbolic math library for me\n",
    "  * numpy as np, matplotlib.pyplot as plt IPython.display  \n",
    "  * libaldo_math2.py this module have some util tools for classic math functions  \n",
    "  * libaldo_algorith.py some algorith to manage simple math functions\n",
    "  * lib_MyEq , this module manage maths Eq\n",
    "  * lib_MyEqEq , this module will be MyEq=MyEq\n",
    "* Also include the most used variables like   ,x,y,z,alpha,mu..   etc... mayby 150 variables  "
   ]
  },
  {
   "cell_type": "code",
   "execution_count": 1,
   "id": "8504a2b9-b256-4f33-b208-1376471c798e",
   "metadata": {
    "tags": []
   },
   "outputs": [],
   "source": [
    "# This scrip initializes all variables. \n",
    "import sys\n",
    "sys.path.insert(0, './Libaldo')\n",
    "from Libaldo import *"
   ]
  },
  {
   "attachments": {
    "c15905fe-892f-41fe-a113-d535d29cda49.png": {
     "image/png": "[encoded data removed]"
    }
   },
   "cell_type": "markdown",
   "id": "481cec55-af44-4dc0-8abe-da357e6eebca",
   "metadata": {},
   "source": [
    "![image.png](attachment:c15905fe-892f-41fe-a113-d535d29cda49.png)"
   ]
  },
  {
   "attachments": {
    "54df9e1e-714e-4371-a5f2-ffb26663218e.png": {
     "image/png": "[encoded data removed]"
    }
   },
   "cell_type": "markdown",
   "id": "c4ae9f2c-d86a-4f59-a6b5-a77643485227",
   "metadata": {},
   "source": [
    "![image.png](attachment:54df9e1e-714e-4371-a5f2-ffb26663218e.png)"
   ]
  },
  {
   "attachments": {
    "126c9d9a-4979-47ab-86dd-8def3d64108e.png": {
     "image/png": "[encoded data removed]"
    }
   },
   "cell_type": "markdown",
   "id": "62113f01-2b30-4c22-ae09-0fafadcc309f",
   "metadata": {},
   "source": [
    "![image.png](attachment:126c9d9a-4979-47ab-86dd-8def3d64108e.png)"
   ]
  },
  {
   "cell_type": "code",
   "execution_count": 2,
   "id": "07375c4f-06d8-43b0-a7bd-750668b85603",
   "metadata": {},
   "outputs": [
    {
     "data": {
      "image/png": "[encoded data removed]",
      "text/latex": [
       "$\\displaystyle x^{2}$"
      ],
      "text/plain": [
       " 2\n",
       "x "
      ]
     },
     "execution_count": 2,
     "metadata": {},
     "output_type": "execute_result"
    }
   ],
   "source": [
    "kpow(x)"
   ]
  },
  {
   "cell_type": "code",
   "execution_count": 3,
   "id": "b1eae486-6cbb-4da1-95fb-5b42595ac9f0",
   "metadata": {},
   "outputs": [
    {
     "data": {
      "image/png": "[encoded data removed]",
      "text/latex": [
       "$\\displaystyle x^{y}$"
      ],
      "text/plain": [
       " y\n",
       "x "
      ]
     },
     "execution_count": 3,
     "metadata": {},
     "output_type": "execute_result"
    }
   ],
   "source": [
    "kpow(x,y)"
   ]
  },
  {
   "cell_type": "code",
   "execution_count": 4,
   "id": "e7629a06-0051-42f2-be71-0cf1e717034d",
   "metadata": {},
   "outputs": [
    {
     "data": {
      "image/png": "[encoded data removed]",
      "text/latex": [
       "$\\displaystyle a^{x^{\\frac{y}{z}}}$"
      ],
      "text/plain": [
       " ⎛ y⎞\n",
       " ⎜ ─⎟\n",
       " ⎜ z⎟\n",
       " ⎝x ⎠\n",
       "a    "
      ]
     },
     "execution_count": 4,
     "metadata": {},
     "output_type": "execute_result"
    }
   ],
   "source": [
    "kpow(a,kpow(x,y,z))"
   ]
  },
  {
   "cell_type": "code",
   "execution_count": 5,
   "id": "f51314bb-6ed5-48c3-8b7e-35da7ef63b38",
   "metadata": {},
   "outputs": [
    {
     "data": {
      "image/png": "[encoded data removed]",
      "text/latex": [
       "$\\displaystyle \\left(a^{x^{\\frac{y}{z}}}\\right)^{\\left(x + y\\right)^{\\frac{y + z}{x + z}}}$"
      ],
      "text/plain": [
       "       ⎛       y + z⎞\n",
       "       ⎜       ─────⎟\n",
       "       ⎜       x + z⎟\n",
       "       ⎝(x + y)     ⎠\n",
       "⎛ ⎛ y⎞⎞              \n",
       "⎜ ⎜ ─⎟⎟              \n",
       "⎜ ⎜ z⎟⎟              \n",
       "⎜ ⎝x ⎠⎟              \n",
       "⎝a    ⎠              "
      ]
     },
     "execution_count": 5,
     "metadata": {},
     "output_type": "execute_result"
    }
   ],
   "source": [
    "kpow(kpow(a,kpow(x,y,z)),kpow(x+y,y+z,z+x))"
   ]
  },
  {
   "attachments": {
    "11533b64-fb2e-4ca6-bc6b-f8d92bdbb394.png": {
     "image/png": "[encoded data removed]"
    }
   },
   "cell_type": "markdown",
   "id": "650ef65d-7a92-415a-bd6e-0193ec1b1b38",
   "metadata": {},
   "source": [
    "![image.png](attachment:11533b64-fb2e-4ca6-bc6b-f8d92bdbb394.png)"
   ]
  },
  {
   "cell_type": "code",
   "execution_count": 6,
   "id": "91ee9672-04bc-40c0-aac9-3b3bef61a394",
   "metadata": {},
   "outputs": [
    {
     "data": {
      "image/png": "[encoded data removed]",
      "text/latex": [
       "$\\displaystyle \\sqrt{x}$"
      ],
      "text/plain": [
       "√x"
      ]
     },
     "execution_count": 6,
     "metadata": {},
     "output_type": "execute_result"
    }
   ],
   "source": [
    "sqrs(x)"
   ]
  },
  {
   "cell_type": "code",
   "execution_count": 7,
   "id": "631c3a58-68b1-4b3a-b9b6-f5ca3e13ffe0",
   "metadata": {},
   "outputs": [
    {
     "data": {
      "image/png": "[encoded data removed]",
      "text/latex": [
       "$\\displaystyle x^{\\frac{1}{y}}$"
      ],
      "text/plain": [
       "y ___\n",
       "╲╱ x "
      ]
     },
     "execution_count": 7,
     "metadata": {},
     "output_type": "execute_result"
    }
   ],
   "source": [
    "sqrs(x,y)"
   ]
  },
  {
   "attachments": {
    "ad5e87cb-3a08-4922-bb82-9b615e739839.png": {
     "image/png": "[encoded data removed]"
    }
   },
   "cell_type": "markdown",
   "id": "aa01d0b1-40fa-4472-ae50-8c54e09c9ed3",
   "metadata": {},
   "source": [
    "![image.png](attachment:ad5e87cb-3a08-4922-bb82-9b615e739839.png)"
   ]
  },
  {
   "cell_type": "code",
   "execution_count": 8,
   "id": "40142858-55d5-493d-9b5b-aa1c383ba235",
   "metadata": {},
   "outputs": [
    {
     "data": {
      "text/latex": [
       "$\\displaystyle e1 =x^{y}$"
      ],
      "text/plain": [
       "<IPython.core.display.Math object>"
      ]
     },
     "metadata": {},
     "output_type": "display_data"
    }
   ],
   "source": [
    "e1=MyEq(kpow(x,y),'e1')"
   ]
  },
  {
   "cell_type": "code",
   "execution_count": 9,
   "id": "6dec0e57-1555-4bbc-8ba6-4b6453c4eeee",
   "metadata": {},
   "outputs": [
    {
     "data": {
      "text/latex": [
       "$\\displaystyle e2 =a^{x^{\\frac{y}{z}}}$"
      ],
      "text/plain": [
       "<IPython.core.display.Math object>"
      ]
     },
     "metadata": {},
     "output_type": "display_data"
    }
   ],
   "source": [
    "e2=MyEq(kpow(a,kpow(x,y,z)),'e2')"
   ]
  },
  {
   "cell_type": "code",
   "execution_count": 10,
   "id": "64b318e0-6db9-49ed-b237-c4a933736c33",
   "metadata": {},
   "outputs": [
    {
     "data": {
      "text/latex": [
       "$\\displaystyle x^{y} = 4 x^{2 y}$"
      ],
      "text/plain": [
       "<IPython.core.display.Math object>"
      ]
     },
     "metadata": {},
     "output_type": "display_data"
    }
   ],
   "source": [
    "Q=MQ(e1,4*kpow(x,2*y))"
   ]
  },
  {
   "attachments": {
    "429b6657-7dad-4fb7-865b-7456e7e02d12.png": {
     "image/png": "[encoded data removed]"
    }
   },
   "cell_type": "markdown",
   "id": "7ee13603-854e-43e2-9687-d21cacb0be9b",
   "metadata": {},
   "source": [
    "![image.png](attachment:429b6657-7dad-4fb7-865b-7456e7e02d12.png)"
   ]
  },
  {
   "cell_type": "code",
   "execution_count": 11,
   "id": "03df4624-1fd2-4a46-9fb5-bdcac874d0ca",
   "metadata": {
    "tags": []
   },
   "outputs": [],
   "source": [
    "# This scrip initializes all variables. \n",
    "import sys\n",
    "sys.path.insert(0, './Libaldo')\n",
    "from Libaldo import *"
   ]
  },
  {
   "cell_type": "code",
   "execution_count": 12,
   "id": "6e529eca-91e4-4276-b07b-89a3c43c8f67",
   "metadata": {},
   "outputs": [
    {
     "data": {
      "text/latex": [
       "$\\displaystyle P =x^{y}$"
      ],
      "text/plain": [
       "<IPython.core.display.Math object>"
      ]
     },
     "metadata": {},
     "output_type": "display_data"
    }
   ],
   "source": [
    "P=MyEq(kpow(x,y),'P')"
   ]
  },
  {
   "cell_type": "code",
   "execution_count": 13,
   "id": "e7e4a1a2-d28a-4a53-bc0f-3fcc6fb2e402",
   "metadata": {},
   "outputs": [
    {
     "data": {
      "text/latex": [
       "$\\displaystyle P =x^{y} x^{3 y + 2}$"
      ],
      "text/plain": [
       "<IPython.core.display.Math object>"
      ]
     },
     "metadata": {},
     "output_type": "display_data"
    }
   ],
   "source": [
    "P.Mul(kpow(x,3*y+2))"
   ]
  },
  {
   "attachments": {
    "2757a8a3-8b9a-4a55-b99f-7835f3508129.png": {
     "image/png": "[encoded data removed]"
    }
   },
   "cell_type": "markdown",
   "id": "53a2b4b3-d88d-4ced-95de-dd3f7c44710d",
   "metadata": {},
   "source": [
    "![image.png](attachment:2757a8a3-8b9a-4a55-b99f-7835f3508129.png)"
   ]
  },
  {
   "cell_type": "code",
   "execution_count": 14,
   "id": "28e9bec3-ff08-4a1b-9f6e-f7ef9207c38c",
   "metadata": {},
   "outputs": [
    {
     "data": {
      "text/latex": [
       "$\\displaystyle P =x^{4 y + 2}$"
      ],
      "text/plain": [
       "<IPython.core.display.Math object>"
      ]
     },
     "metadata": {},
     "output_type": "display_data"
    }
   ],
   "source": [
    "P.simplify()"
   ]
  },
  {
   "cell_type": "code",
   "execution_count": 15,
   "id": "9d7a4143-3a98-4cbb-98b2-64e9cc964f77",
   "metadata": {},
   "outputs": [
    {
     "data": {
      "text/latex": [
       "$\\displaystyle P =x^{2 \\left(2 y + 1\\right)}$"
      ],
      "text/plain": [
       "<IPython.core.display.Math object>"
      ]
     },
     "metadata": {},
     "output_type": "display_data"
    }
   ],
   "source": [
    "P.factorexp()"
   ]
  },
  {
   "cell_type": "code",
   "execution_count": 16,
   "id": "d470090a-ac1e-4de9-a518-7dc8d13c1461",
   "metadata": {},
   "outputs": [
    {
     "data": {
      "text/latex": [
       "$\\displaystyle x^{y z}$"
      ],
      "text/plain": [
       "<IPython.core.display.Math object>"
      ]
     },
     "metadata": {},
     "output_type": "display_data"
    }
   ],
   "source": [
    "Q=MyEq(kpow(x,z*y))"
   ]
  },
  {
   "cell_type": "code",
   "execution_count": 17,
   "id": "8999e3c8-7fa3-4f23-bdbe-f3b0f5c85b0f",
   "metadata": {},
   "outputs": [
    {
     "data": {
      "text/latex": [
       "$\\displaystyle \\left(x^{y}\\right)^{z}$"
      ],
      "text/plain": [
       "<IPython.core.display.Math object>"
      ]
     },
     "metadata": {},
     "output_type": "display_data"
    }
   ],
   "source": [
    "Q.powexpand()"
   ]
  },
  {
   "cell_type": "code",
   "execution_count": 18,
   "id": "dabd9484-3044-40de-b2ed-5fbc99f73dcb",
   "metadata": {},
   "outputs": [
    {
     "data": {
      "text/latex": [
       "$\\displaystyle x^{y z}$"
      ],
      "text/plain": [
       "<IPython.core.display.Math object>"
      ]
     },
     "metadata": {},
     "output_type": "display_data"
    }
   ],
   "source": [
    "Q.simplifyexp()"
   ]
  },
  {
   "cell_type": "code",
   "execution_count": 19,
   "id": "0afb2407-8964-4a42-8875-1e1ae1b6ad1f",
   "metadata": {},
   "outputs": [
    {
     "data": {
      "text/latex": [
       "$\\displaystyle \\left(x^{z}\\right)^{y}$"
      ],
      "text/plain": [
       "<IPython.core.display.Math object>"
      ]
     },
     "metadata": {},
     "output_type": "display_data"
    }
   ],
   "source": [
    "Q.powexpand('z')"
   ]
  },
  {
   "cell_type": "code",
   "execution_count": 20,
   "id": "71dc2444-5d33-4267-82fd-cc3c7d7344cd",
   "metadata": {},
   "outputs": [
    {
     "data": {
      "text/latex": [
       "$\\displaystyle 9 = 3^{x}$"
      ],
      "text/plain": [
       "<IPython.core.display.Math object>"
      ]
     },
     "metadata": {},
     "output_type": "display_data"
    }
   ],
   "source": [
    "A=MQ(9,3**x)"
   ]
  },
  {
   "cell_type": "code",
   "execution_count": 21,
   "id": "eee6f307-c44f-4935-8afe-add88f18404f",
   "metadata": {},
   "outputs": [
    {
     "data": {
      "text/latex": [
       "$\\displaystyle \\log{\\left(9 \\right)} = \\log{\\left(3^{x} \\right)}$"
      ],
      "text/plain": [
       "<IPython.core.display.Math object>"
      ]
     },
     "metadata": {},
     "output_type": "display_data"
    }
   ],
   "source": [
    "A.log()"
   ]
  },
  {
   "cell_type": "code",
   "execution_count": 22,
   "id": "a0cbca8f-7b57-4fce-b29d-c883df3a92d6",
   "metadata": {},
   "outputs": [
    {
     "data": {
      "text/latex": [
       "$\\displaystyle 2 \\log{\\left(3 \\right)} = x \\log{\\left(3 \\right)}$"
      ],
      "text/plain": [
       "<IPython.core.display.Math object>"
      ]
     },
     "metadata": {},
     "output_type": "display_data"
    }
   ],
   "source": [
    "A.lexpand()"
   ]
  },
  {
   "cell_type": "code",
   "execution_count": 23,
   "id": "db4bf9a8-b92e-410f-90ab-21ee2d4e1417",
   "metadata": {},
   "outputs": [
    {
     "data": {
      "text/latex": [
       "$\\displaystyle 2 = x$"
      ],
      "text/plain": [
       "<IPython.core.display.Math object>"
      ]
     },
     "metadata": {},
     "output_type": "display_data"
    }
   ],
   "source": [
    "A.simplify()"
   ]
  },
  {
   "cell_type": "code",
   "execution_count": 24,
   "id": "8c0dc5b9-c78c-4f36-8667-3a3ea90821b7",
   "metadata": {},
   "outputs": [
    {
     "data": {
      "text/latex": [
       "$\\displaystyle x = 2$"
      ],
      "text/plain": [
       "<IPython.core.display.Math object>"
      ]
     },
     "metadata": {},
     "output_type": "display_data"
    }
   ],
   "source": [
    "A.swap()"
   ]
  },
  {
   "attachments": {
    "5cdba332-20d4-417d-b947-9be92022f0fe.png": {
     "image/png": "[encoded data removed]"
    }
   },
   "cell_type": "markdown",
   "id": "1f43e816-69bd-4200-8f1a-8f4459e62471",
   "metadata": {},
   "source": [
    "![image.png](attachment:5cdba332-20d4-417d-b947-9be92022f0fe.png)"
   ]
  },
  {
   "attachments": {
    "c731bc86-939b-419a-b6d7-807c5a94c426.png": {
     "image/png": "[encoded data removed]"
    }
   },
   "cell_type": "markdown",
   "id": "2298cb71-adf6-4287-9487-631e453f6899",
   "metadata": {},
   "source": [
    "![image.png](attachment:c731bc86-939b-419a-b6d7-807c5a94c426.png)"
   ]
  },
  {
   "attachments": {
    "8bd895b7-0cd2-4f0a-9639-485a2209d1b8.png": {
     "image/png": "[encoded data removed]"
    }
   },
   "cell_type": "markdown",
   "id": "8d212b17-7ea1-438e-aefe-f953781c44cd",
   "metadata": {},
   "source": [
    "![image.png](attachment:8bd895b7-0cd2-4f0a-9639-485a2209d1b8.png)"
   ]
  },
  {
   "cell_type": "code",
   "execution_count": 25,
   "id": "10839030-f885-4fb0-ba05-1ba2fb688ed0",
   "metadata": {
    "tags": []
   },
   "outputs": [],
   "source": [
    "# This scrip initializes all variables.  \n",
    "import sys\n",
    "sys.path.insert(0, './Libaldo')\n",
    "from Libaldo import *"
   ]
  },
  {
   "cell_type": "code",
   "execution_count": 26,
   "id": "b399334a-bf7b-40f0-bf98-52e0e857d5db",
   "metadata": {},
   "outputs": [
    {
     "data": {
      "text/latex": [
       "$\\displaystyle e1 =256^{m}$"
      ],
      "text/plain": [
       "<IPython.core.display.Math object>"
      ]
     },
     "metadata": {},
     "output_type": "display_data"
    }
   ],
   "source": [
    "e1=MyEq(kpow(2**8,m),'e1') #hummm????"
   ]
  },
  {
   "attachments": {
    "54df9e1e-714e-4371-a5f2-ffb26663218e.png": {
     "image/png": "[encoded data removed]"
    }
   },
   "cell_type": "markdown",
   "id": "e829f6f5-790c-4f60-a0a2-108fe2c42200",
   "metadata": {},
   "source": [
    "![image.png](attachment:54df9e1e-714e-4371-a5f2-ffb26663218e.png)"
   ]
  },
  {
   "attachments": {
    "ef8bf738-0b6b-4507-8d9c-78b1e9636c43.png": {
     "image/png": "[encoded data removed]"
    }
   },
   "cell_type": "markdown",
   "id": "bdf7d569-2196-45e4-980f-f865faf21576",
   "metadata": {},
   "source": [
    "![image.png](attachment:ef8bf738-0b6b-4507-8d9c-78b1e9636c43.png)"
   ]
  },
  {
   "cell_type": "code",
   "execution_count": 27,
   "id": "0f314819-048f-4522-8a66-4ac86b7f1870",
   "metadata": {},
   "outputs": [
    {
     "data": {
      "image/png": "[encoded data removed]",
      "text/latex": [
       "$\\displaystyle 2^{m + 3}$"
      ],
      "text/plain": [
       " m + 3\n",
       "2     "
      ]
     },
     "execution_count": 27,
     "metadata": {},
     "output_type": "execute_result"
    }
   ],
   "source": [
    "primefactorexp(8**m)"
   ]
  },
  {
   "cell_type": "code",
   "execution_count": 28,
   "id": "4a9129ab-b5a8-4c7c-814e-1d3fdcdf5385",
   "metadata": {},
   "outputs": [
    {
     "data": {
      "image/png": "[encoded data removed]",
      "text/latex": [
       "$\\displaystyle 2^{m + 8}$"
      ],
      "text/plain": [
       " m + 8\n",
       "2     "
      ]
     },
     "execution_count": 28,
     "metadata": {},
     "output_type": "execute_result"
    }
   ],
   "source": [
    "primefactorexp(256**m)"
   ]
  },
  {
   "cell_type": "code",
   "execution_count": 29,
   "id": "51063e10-d07c-40bc-a75c-6087e75ee9a9",
   "metadata": {},
   "outputs": [
    {
     "data": {
      "text/latex": [
       "$\\displaystyle e1 =256^{m}$"
      ],
      "text/plain": [
       "<IPython.core.display.Math object>"
      ]
     },
     "metadata": {},
     "output_type": "display_data"
    }
   ],
   "source": [
    "e1=MyEq(kpow(256,m),'e1')  "
   ]
  },
  {
   "attachments": {
    "25ec0ced-d12f-46d2-80a9-4bc64dcb9164.png": {
     "image/png": "[encoded data removed]"
    }
   },
   "cell_type": "markdown",
   "id": "bc9bbd5f-b1b1-4381-b595-420735fd771f",
   "metadata": {},
   "source": [
    "![image.png](attachment:25ec0ced-d12f-46d2-80a9-4bc64dcb9164.png)"
   ]
  },
  {
   "cell_type": "code",
   "execution_count": 30,
   "id": "416eb737-1ebb-4c52-aa4d-5479eada8993",
   "metadata": {},
   "outputs": [
    {
     "data": {
      "text/latex": [
       "$\\displaystyle e1 =2^{m + 8}$"
      ],
      "text/plain": [
       "<IPython.core.display.Math object>"
      ]
     },
     "metadata": {},
     "output_type": "display_data"
    }
   ],
   "source": [
    "e1.primefactorexp() #  yess......."
   ]
  },
  {
   "attachments": {
    "4abe155d-6385-4dc7-8cb4-373bb0f58305.png": {
     "image/png": "[encoded data removed]"
    }
   },
   "cell_type": "markdown",
   "id": "1ed39230-4461-484e-a20a-94ed0aeec0ca",
   "metadata": {},
   "source": [
    "![image.png](attachment:4abe155d-6385-4dc7-8cb4-373bb0f58305.png)"
   ]
  },
  {
   "cell_type": "code",
   "execution_count": 31,
   "id": "0d5a125a-2451-404f-ae30-9ae0a7d544f4",
   "metadata": {},
   "outputs": [
    {
     "data": {
      "text/latex": [
       "$\\displaystyle e2 =2^{2 + \\frac{m^{2} - 1}{m + 1}}$"
      ],
      "text/plain": [
       "<IPython.core.display.Math object>"
      ]
     },
     "metadata": {},
     "output_type": "display_data"
    }
   ],
   "source": [
    "e2=MyEq(primefactorexp(sqrs(4,m+1,m**2-1)),'e2')  "
   ]
  },
  {
   "cell_type": "code",
   "execution_count": 32,
   "id": "a67ccdce-e5d3-4fea-9812-b70432371466",
   "metadata": {},
   "outputs": [
    {
     "data": {
      "text/latex": [
       "$\\displaystyle e2 =2^{m + 1}$"
      ],
      "text/plain": [
       "<IPython.core.display.Math object>"
      ]
     },
     "metadata": {},
     "output_type": "display_data"
    }
   ],
   "source": [
    "e2.simplifyexp()"
   ]
  },
  {
   "attachments": {
    "af423b22-de4b-4ed7-a74c-8d816d9a79d2.png": {
     "image/png": "[encoded data removed]"
    }
   },
   "cell_type": "markdown",
   "id": "4df7e3b6-dc7f-4548-bc2a-9910dd962fe3",
   "metadata": {},
   "source": [
    "![image.png](attachment:af423b22-de4b-4ed7-a74c-8d816d9a79d2.png)"
   ]
  },
  {
   "cell_type": "code",
   "execution_count": 33,
   "id": "0f9135df-f54b-42a6-8609-5f8ba697dac9",
   "metadata": {},
   "outputs": [
    {
     "data": {
      "text/latex": [
       "$\\displaystyle e3 =2^{2 - m} 2^{m + 7}$"
      ],
      "text/plain": [
       "<IPython.core.display.Math object>"
      ]
     },
     "metadata": {},
     "output_type": "display_data"
    }
   ],
   "source": [
    "e3=MyEq(primefactorexp(64**(m+1)*sqrs(4,1/m,-1)),'e3')  "
   ]
  },
  {
   "attachments": {
    "7a715347-477f-4f9b-9901-ef4357208b39.png": {
     "image/png": "[encoded data removed]"
    }
   },
   "cell_type": "markdown",
   "id": "89ba5dbb-d1aa-4f07-b698-3d7f3b1f98fd",
   "metadata": {},
   "source": [
    "![image.png](attachment:7a715347-477f-4f9b-9901-ef4357208b39.png)"
   ]
  },
  {
   "cell_type": "code",
   "execution_count": 34,
   "id": "17a4ea7f-2338-4c40-8b77-c06c50567be1",
   "metadata": {},
   "outputs": [
    {
     "data": {
      "text/latex": [
       "$\\displaystyle E1 =2^{2 - m} 2^{- m - 8} \\cdot 2^{- m - 1} \\cdot 2^{m + 7}$"
      ],
      "text/plain": [
       "<IPython.core.display.Math object>"
      ]
     },
     "metadata": {},
     "output_type": "display_data"
    }
   ],
   "source": [
    "E1=MyEq(e1*e2/e3,'E1')"
   ]
  },
  {
   "cell_type": "code",
   "execution_count": 35,
   "id": "3114a912-e3d6-45ef-b603-d93ad8c5ab18",
   "metadata": {},
   "outputs": [
    {
     "data": {
      "text/latex": [
       "$\\displaystyle E1 =\\left(2^{2 - m} 2^{- m - 8} \\cdot 2^{- m - 1} \\cdot 2^{m + 7}\\right)^{\\frac{1}{m}}$"
      ],
      "text/plain": [
       "<IPython.core.display.Math object>"
      ]
     },
     "metadata": {},
     "output_type": "display_data"
    }
   ],
   "source": [
    "E1.Pow(1/m)"
   ]
  },
  {
   "cell_type": "code",
   "execution_count": 36,
   "id": "1058c1ab-8f3f-4681-a12d-9c318ceee494",
   "metadata": {},
   "outputs": [
    {
     "data": {
      "text/latex": [
       "$\\displaystyle E1 =\\left(2^{2 - m} 2^{- m - 8} \\cdot 2^{- m - 1} \\cdot 2^{m + 7}\\right)^{\\frac{1}{m}}$"
      ],
      "text/plain": [
       "<IPython.core.display.Math object>"
      ]
     },
     "metadata": {},
     "output_type": "display_data"
    }
   ],
   "source": [
    "E1.simplifyexp()"
   ]
  },
  {
   "attachments": {
    "5cdba332-20d4-417d-b947-9be92022f0fe.png": {
     "image/png": "[encoded data removed]"
    }
   },
   "cell_type": "markdown",
   "id": "a665cab0-9149-49fe-9e2a-1a01207a6d20",
   "metadata": {},
   "source": [
    "![image.png](attachment:5cdba332-20d4-417d-b947-9be92022f0fe.png)"
   ]
  },
  {
   "attachments": {
    "38d56fa3-23ed-422b-a236-0786f0385b0a.png": {
     "image/png": "[encoded data removed]"
    }
   },
   "cell_type": "markdown",
   "id": "6a3f7dd6-452f-45c2-8409-fec694341592",
   "metadata": {},
   "source": [
    "![image.png](attachment:38d56fa3-23ed-422b-a236-0786f0385b0a.png)"
   ]
  },
  {
   "attachments": {
    "8bd895b7-0cd2-4f0a-9639-485a2209d1b8.png": {
     "image/png": "[encoded data removed]"
    }
   },
   "cell_type": "markdown",
   "id": "b4395545-6795-414c-ad2c-7ae4252620bd",
   "metadata": {},
   "source": [
    "![image.png](attachment:8bd895b7-0cd2-4f0a-9639-485a2209d1b8.png)"
   ]
  },
  {
   "cell_type": "code",
   "execution_count": 37,
   "id": "58d7730b-7378-4aa0-bdf8-e4edca526965",
   "metadata": {
    "tags": []
   },
   "outputs": [],
   "source": [
    "# This scrip initializes all variables. \n",
    "import sys\n",
    "sys.path.insert(0, './Libaldo')\n",
    "from Libaldo import *"
   ]
  },
  {
   "cell_type": "code",
   "execution_count": 38,
   "id": "5a600271-2a44-43ce-b06d-b0559c5b384a",
   "metadata": {},
   "outputs": [
    {
     "data": {
      "text/latex": [
       "$\\displaystyle A = 2 \\sqrt[4]{A}$"
      ],
      "text/plain": [
       "<IPython.core.display.Math object>"
      ]
     },
     "metadata": {},
     "output_type": "display_data"
    }
   ],
   "source": [
    "Q=MyEqEq(A,sqrs(2*sqrs(4*A)))"
   ]
  },
  {
   "cell_type": "code",
   "execution_count": 39,
   "id": "389f7c09-3b3b-49f3-ab90-a5bde6f3571f",
   "metadata": {},
   "outputs": [
    {
     "data": {
      "text/latex": [
       "$\\displaystyle A =2 \\sqrt[3]{2}$"
      ],
      "text/plain": [
       "<IPython.core.display.Math object>"
      ]
     },
     "metadata": {},
     "output_type": "display_data"
    }
   ],
   "source": [
    "A=Q.solve(A,'A')"
   ]
  },
  {
   "attachments": {
    "5cdba332-20d4-417d-b947-9be92022f0fe.png": {
     "image/png": "[encoded data removed]"
    }
   },
   "cell_type": "markdown",
   "id": "c8234739-4ccc-4000-b804-96c00b4f0864",
   "metadata": {},
   "source": [
    "![image.png](attachment:5cdba332-20d4-417d-b947-9be92022f0fe.png)"
   ]
  },
  {
   "attachments": {
    "9c45fd55-f23b-4b05-ba86-8da17250dff7.png": {
     "image/png": "[encoded data removed]"
    }
   },
   "cell_type": "markdown",
   "id": "dbaf81db-c561-47b0-9964-92e9ed987d69",
   "metadata": {},
   "source": [
    "![image.png](attachment:9c45fd55-f23b-4b05-ba86-8da17250dff7.png)"
   ]
  },
  {
   "attachments": {
    "8bd895b7-0cd2-4f0a-9639-485a2209d1b8.png": {
     "image/png": "[encoded data removed]"
    }
   },
   "cell_type": "markdown",
   "id": "eafb99c2-ca64-45e7-95a7-ddc5cc755bec",
   "metadata": {},
   "source": [
    "![image.png](attachment:8bd895b7-0cd2-4f0a-9639-485a2209d1b8.png)"
   ]
  },
  {
   "cell_type": "code",
   "execution_count": 40,
   "id": "2d2a80fa-59da-4ec6-a662-ee45a4bcd81f",
   "metadata": {
    "tags": []
   },
   "outputs": [],
   "source": [
    "# This scrip initializes all variables.   \n",
    "import sys\n",
    "sys.path.insert(0, './Libaldo')\n",
    "from Libaldo import *"
   ]
  },
  {
   "cell_type": "code",
   "execution_count": 41,
   "id": "06060309-a0fa-435e-a703-b43df67ac4e2",
   "metadata": {},
   "outputs": [],
   "source": [
    "def fx(a,b,c):\n",
    "    m1=kpow(b,c)\n",
    "    return kpow(a,m1)"
   ]
  },
  {
   "cell_type": "code",
   "execution_count": 42,
   "id": "2b5eebe3-4fae-4460-ba72-912ff9798ee9",
   "metadata": {},
   "outputs": [
    {
     "data": {
      "text/latex": [
       "$\\displaystyle e1 =a^{b^{1 - a}} + b^{a^{1 - b}}$"
      ],
      "text/plain": [
       "<IPython.core.display.Math object>"
      ]
     },
     "metadata": {},
     "output_type": "display_data"
    },
    {
     "data": {
      "text/latex": [
       "$\\displaystyle e2 =a^{b^{a + 1}} + b^{a^{b + 1}}$"
      ],
      "text/plain": [
       "<IPython.core.display.Math object>"
      ]
     },
     "metadata": {},
     "output_type": "display_data"
    },
    {
     "data": {
      "text/latex": [
       "$\\displaystyle e3 =a^{b} b^{a} + 1$"
      ],
      "text/plain": [
       "<IPython.core.display.Math object>"
      ]
     },
     "metadata": {},
     "output_type": "display_data"
    }
   ],
   "source": [
    "e1=MyEq(fx(a,b,1-a)+fx(b,a,1-b),'e1')\n",
    "e2=MyEq(fx(a,b,1+a)+fx(b,a,1+b),'e2')\n",
    "e3=MyEq(1+kpow(a,b)*kpow(b,a),'e3') "
   ]
  },
  {
   "cell_type": "code",
   "execution_count": 43,
   "id": "d01436a1-12b1-4eea-9e94-ad6a8a11f4c5",
   "metadata": {},
   "outputs": [
    {
     "data": {
      "text/latex": [
       "$\\displaystyle e4 =\\left(\\frac{a^{b^{1 - a}} + b^{a^{1 - b}}}{a^{b^{a + 1}} + b^{a^{b + 1}}}\\right)^{a^{b} b^{a} + 1}$"
      ],
      "text/plain": [
       "<IPython.core.display.Math object>"
      ]
     },
     "metadata": {},
     "output_type": "display_data"
    }
   ],
   "source": [
    "e4=MyEq(kpow((e1/e2),e3*1),'e4')"
   ]
  },
  {
   "cell_type": "code",
   "execution_count": 44,
   "id": "0745d6b9-596f-43fe-ab8b-9fe9f3ce0d64",
   "metadata": {},
   "outputs": [
    {
     "data": {
      "text/latex": [
       "$\\displaystyle e4 =\\frac{a^{b b^{- a}} \\left(\\frac{a^{b b^{- a}}}{a^{b b^{a}} + b^{a a^{b}}} + \\frac{b^{a a^{- b}}}{a^{b b^{a}} + b^{a a^{b}}}\\right)^{a^{b} b^{a}}}{a^{b b^{a}} + b^{a a^{b}}} + \\frac{b^{a a^{- b}} \\left(\\frac{a^{b b^{- a}}}{a^{b b^{a}} + b^{a a^{b}}} + \\frac{b^{a a^{- b}}}{a^{b b^{a}} + b^{a a^{b}}}\\right)^{a^{b} b^{a}}}{a^{b b^{a}} + b^{a a^{b}}}$"
      ],
      "text/plain": [
       "<IPython.core.display.Math object>"
      ]
     },
     "metadata": {},
     "output_type": "display_data"
    }
   ],
   "source": [
    "e4.expand()"
   ]
  },
  {
   "cell_type": "code",
   "execution_count": 45,
   "id": "909bba54-2758-4657-b4d9-0cdf80cdc77f",
   "metadata": {},
   "outputs": [
    {
     "data": {
      "text/latex": [
       "$\\displaystyle e5 =b^{- a}$"
      ],
      "text/plain": [
       "<IPython.core.display.Math object>"
      ]
     },
     "metadata": {},
     "output_type": "display_data"
    },
    {
     "data": {
      "text/latex": [
       "$\\displaystyle e6 =a^{b}$"
      ],
      "text/plain": [
       "<IPython.core.display.Math object>"
      ]
     },
     "metadata": {},
     "output_type": "display_data"
    },
    {
     "data": {
      "text/latex": [
       "$\\displaystyle e7 =b^{\\frac{a}{2}}$"
      ],
      "text/plain": [
       "<IPython.core.display.Math object>"
      ]
     },
     "metadata": {},
     "output_type": "display_data"
    },
    {
     "data": {
      "text/latex": [
       "$\\displaystyle e8 =a^{\\frac{b}{2}}$"
      ],
      "text/plain": [
       "<IPython.core.display.Math object>"
      ]
     },
     "metadata": {},
     "output_type": "display_data"
    }
   ],
   "source": [
    "e5=MyEq(kpow(b,-a),'e5')\n",
    "e6=MyEq(kpow(a,b),'e6')\n",
    "e7=MyEq(kpow(b,a/2),'e7')\n",
    "e8=MyEq(kpow(a,b/2),'e8')"
   ]
  },
  {
   "cell_type": "code",
   "execution_count": 46,
   "id": "2acfbbcc-c07e-4ead-9c9e-645e834b444e",
   "metadata": {},
   "outputs": [
    {
     "data": {
      "text/latex": [
       "$\\displaystyle e4 =\\frac{a^{b b^{- a}} \\left(\\frac{a^{b b^{- a}}}{a^{b b^{a}} + b^{2 a}} + \\frac{b^{\\frac{a}{2}}}{a^{b b^{a}} + b^{2 a}}\\right)^{2 b^{a}}}{a^{b b^{a}} + b^{2 a}} + \\frac{b^{\\frac{a}{2}} \\left(\\frac{a^{b b^{- a}}}{a^{b b^{a}} + b^{2 a}} + \\frac{b^{\\frac{a}{2}}}{a^{b b^{a}} + b^{2 a}}\\right)^{2 b^{a}}}{a^{b b^{a}} + b^{2 a}}$"
      ],
      "text/plain": [
       "<IPython.core.display.Math object>"
      ]
     },
     "metadata": {},
     "output_type": "display_data"
    }
   ],
   "source": [
    "e4.set(e6,2)"
   ]
  },
  {
   "cell_type": "code",
   "execution_count": 47,
   "id": "da806cd2-9a2d-45be-8abc-92e675200b70",
   "metadata": {},
   "outputs": [
    {
     "data": {
      "text/latex": [
       "$\\displaystyle e4 =\\frac{a^{2 b} \\left(\\frac{a^{2 b}}{a^{\\frac{b}{2}} + \\frac{1}{4}} + \\frac{b^{\\frac{a}{2}}}{a^{\\frac{b}{2}} + \\frac{1}{4}}\\right)}{a^{\\frac{b}{2}} + \\frac{1}{4}} + \\frac{b^{\\frac{a}{2}} \\left(\\frac{a^{2 b}}{a^{\\frac{b}{2}} + \\frac{1}{4}} + \\frac{b^{\\frac{a}{2}}}{a^{\\frac{b}{2}} + \\frac{1}{4}}\\right)}{a^{\\frac{b}{2}} + \\frac{1}{4}}$"
      ],
      "text/plain": [
       "<IPython.core.display.Math object>"
      ]
     },
     "metadata": {},
     "output_type": "display_data"
    }
   ],
   "source": [
    "e4.set(e5,2)"
   ]
  },
  {
   "cell_type": "code",
   "execution_count": 48,
   "id": "404bfda1-2de7-4529-b0a9-8599b7a2e971",
   "metadata": {},
   "outputs": [
    {
     "data": {
      "text/latex": [
       "$\\displaystyle e4 =\\frac{16 \\left(a^{2 b} + b^{\\frac{a}{2}}\\right)^{2}}{\\left(4 a^{\\frac{b}{2}} + 1\\right)^{2}}$"
      ],
      "text/plain": [
       "<IPython.core.display.Math object>"
      ]
     },
     "metadata": {},
     "output_type": "display_data"
    }
   ],
   "source": [
    "e4.simplify()"
   ]
  },
  {
   "cell_type": "code",
   "execution_count": 49,
   "id": "1de2695e-a664-41bc-8094-d4c4d0c61714",
   "metadata": {},
   "outputs": [
    {
     "data": {
      "image/png": "[encoded data removed]",
      "text/latex": [
       "$\\displaystyle \\sqrt{2}$"
      ],
      "text/plain": [
       "√2"
      ]
     },
     "execution_count": 49,
     "metadata": {},
     "output_type": "execute_result"
    }
   ],
   "source": [
    "sqrs(2,2)"
   ]
  },
  {
   "cell_type": "code",
   "execution_count": 50,
   "id": "d29700dd-05e9-40c0-b9ca-aa8141894a6c",
   "metadata": {},
   "outputs": [
    {
     "data": {
      "text/latex": [
       "$\\displaystyle e4 =\\frac{16 \\left(a^{2 b} + \\frac{\\sqrt{2}}{2}\\right)^{2}}{\\left(4 a^{\\frac{b}{2}} + 1\\right)^{2}}$"
      ],
      "text/plain": [
       "<IPython.core.display.Math object>"
      ]
     },
     "metadata": {},
     "output_type": "display_data"
    }
   ],
   "source": [
    "e4.set(e7,1/sqrs(2,2)) "
   ]
  },
  {
   "cell_type": "code",
   "execution_count": 51,
   "id": "82018cf6-63ac-4575-a519-6268d349ebb3",
   "metadata": {},
   "outputs": [
    {
     "data": {
      "text/latex": [
       "$\\displaystyle e4 =\\frac{16 \\left(\\frac{\\sqrt{2}}{2} + 4\\right)^{2}}{\\left(1 + 4 \\sqrt{2}\\right)^{2}}$"
      ],
      "text/plain": [
       "<IPython.core.display.Math object>"
      ]
     },
     "metadata": {},
     "output_type": "display_data"
    }
   ],
   "source": [
    "e4.set(e8,sqrs(2))"
   ]
  },
  {
   "cell_type": "code",
   "execution_count": 52,
   "id": "e7f49f8a-1523-461e-a161-483e13c60ad6",
   "metadata": {},
   "outputs": [
    {
     "data": {
      "text/latex": [
       "$\\displaystyle e4 =8$"
      ],
      "text/plain": [
       "<IPython.core.display.Math object>"
      ]
     },
     "metadata": {},
     "output_type": "display_data"
    }
   ],
   "source": [
    "e4.simplify()"
   ]
  },
  {
   "attachments": {
    "5cdba332-20d4-417d-b947-9be92022f0fe.png": {
     "image/png": "[encoded data removed]"
    }
   },
   "cell_type": "markdown",
   "id": "218b1c92-ebec-4388-a013-3a998d7046df",
   "metadata": {},
   "source": [
    "![image.png](attachment:5cdba332-20d4-417d-b947-9be92022f0fe.png)"
   ]
  },
  {
   "attachments": {
    "8a761dd8-b5c1-4ca5-9445-75cfbb95471f.png": {
     "image/png": "[encoded data removed]"
    }
   },
   "cell_type": "markdown",
   "id": "15e87f3a-99c3-42a2-90b9-882ce4c3fe87",
   "metadata": {},
   "source": [
    "![image.png](attachment:8a761dd8-b5c1-4ca5-9445-75cfbb95471f.png)"
   ]
  },
  {
   "attachments": {
    "8bd895b7-0cd2-4f0a-9639-485a2209d1b8.png": {
     "image/png": "[encoded data removed]"
    }
   },
   "cell_type": "markdown",
   "id": "f6837d3c-2e0a-4e32-939f-a325cabb6ddb",
   "metadata": {},
   "source": [
    "![image.png](attachment:8bd895b7-0cd2-4f0a-9639-485a2209d1b8.png)"
   ]
  },
  {
   "cell_type": "code",
   "execution_count": 53,
   "id": "c7c8cc30-6e48-420f-98ac-5345b4fd8d7f",
   "metadata": {
    "tags": []
   },
   "outputs": [],
   "source": [
    "# This scrip initializes all variables.  \n",
    "import sys\n",
    "sys.path.insert(0, './Libaldo')\n",
    "from Libaldo import *"
   ]
  },
  {
   "cell_type": "code",
   "execution_count": 54,
   "id": "80c4a5dc-df9c-4c36-a783-20ae8b8b4818",
   "metadata": {},
   "outputs": [
    {
     "data": {
      "text/latex": [
       "$\\displaystyle P =x^{x^{2 x^{x + 1} + 1}}$"
      ],
      "text/plain": [
       "<IPython.core.display.Math object>"
      ]
     },
     "metadata": {},
     "output_type": "display_data"
    }
   ],
   "source": [
    "P=MyEq(x**(x**(1+2*x**(1+x))),'P')"
   ]
  },
  {
   "cell_type": "code",
   "execution_count": 55,
   "id": "c0123358-5e87-4d12-ad20-e5ecf99b75c7",
   "metadata": {},
   "outputs": [
    {
     "data": {
      "text/latex": [
       "$\\displaystyle P =x^{16 x}$"
      ],
      "text/plain": [
       "<IPython.core.display.Math object>"
      ]
     },
     "metadata": {},
     "output_type": "display_data"
    }
   ],
   "source": [
    "P.set(x**x,2)"
   ]
  },
  {
   "cell_type": "code",
   "execution_count": 56,
   "id": "a24dc422-5ea5-4eb6-88fa-3aa5e3bbd2ab",
   "metadata": {},
   "outputs": [
    {
     "data": {
      "text/latex": [
       "$\\displaystyle P =x^{a x}$"
      ],
      "text/plain": [
       "<IPython.core.display.Math object>"
      ]
     },
     "metadata": {},
     "output_type": "display_data"
    }
   ],
   "source": [
    "# we will set a=16\n",
    "P.set(16*x,a*x)"
   ]
  },
  {
   "cell_type": "code",
   "execution_count": 57,
   "id": "25eef93b-58bc-4908-a690-64c1801181c1",
   "metadata": {},
   "outputs": [
    {
     "data": {
      "text/latex": [
       "$\\displaystyle P =\\left(x^{x}\\right)^{a}$"
      ],
      "text/plain": [
       "<IPython.core.display.Math object>"
      ]
     },
     "metadata": {},
     "output_type": "display_data"
    }
   ],
   "source": [
    "P.powexpand(x)"
   ]
  },
  {
   "cell_type": "code",
   "execution_count": 58,
   "id": "aeb7aa79-dfa3-4a20-bc2e-ca06853de5e0",
   "metadata": {},
   "outputs": [
    {
     "data": {
      "text/latex": [
       "$\\displaystyle P =2^{a}$"
      ],
      "text/plain": [
       "<IPython.core.display.Math object>"
      ]
     },
     "metadata": {},
     "output_type": "display_data"
    }
   ],
   "source": [
    "P.set(x**x,2)"
   ]
  },
  {
   "cell_type": "code",
   "execution_count": 59,
   "id": "64e777ff-7467-47c4-b648-43e1f1e69516",
   "metadata": {},
   "outputs": [
    {
     "data": {
      "text/latex": [
       "$\\displaystyle P =65536$"
      ],
      "text/plain": [
       "<IPython.core.display.Math object>"
      ]
     },
     "metadata": {},
     "output_type": "display_data"
    }
   ],
   "source": [
    "P.set(a,16)"
   ]
  },
  {
   "attachments": {
    "5cdba332-20d4-417d-b947-9be92022f0fe.png": {
     "image/png": "[encoded data removed]"
    }
   },
   "cell_type": "markdown",
   "id": "df3e6410-16f7-4a9d-bf1f-0dc8b836d224",
   "metadata": {},
   "source": [
    "![image.png](attachment:5cdba332-20d4-417d-b947-9be92022f0fe.png)"
   ]
  },
  {
   "attachments": {
    "d8035cce-3b50-4770-ad64-6c70442102ba.png": {
     "image/png": "[encoded data removed]"
    }
   },
   "cell_type": "markdown",
   "id": "810c633e-2ebb-4cf9-a38b-00129952054a",
   "metadata": {},
   "source": [
    "![image.png](attachment:d8035cce-3b50-4770-ad64-6c70442102ba.png)"
   ]
  },
  {
   "attachments": {
    "8bd895b7-0cd2-4f0a-9639-485a2209d1b8.png": {
     "image/png": "[encoded data removed]"
    }
   },
   "cell_type": "markdown",
   "id": "0563602f-4ea0-4586-a960-177fb3a23918",
   "metadata": {},
   "source": [
    "![image.png](attachment:8bd895b7-0cd2-4f0a-9639-485a2209d1b8.png)"
   ]
  },
  {
   "cell_type": "code",
   "execution_count": 60,
   "id": "d56fb0d6-3612-4a92-91bd-984a9379aec2",
   "metadata": {
    "tags": []
   },
   "outputs": [],
   "source": [
    "# This scrip initializes all variables. \n",
    "import sys\n",
    "sys.path.insert(0, './Libaldo')\n",
    "from Libaldo import *"
   ]
  },
  {
   "attachments": {
    "a2239a42-4c62-4787-8ad3-b85341bb5853.png": {
     "image/png": "[encoded data removed]"
    }
   },
   "cell_type": "markdown",
   "id": "a91e3a28-c855-4f3e-83aa-94879fb9ce97",
   "metadata": {},
   "source": [
    "![image.png](attachment:a2239a42-4c62-4787-8ad3-b85341bb5853.png)"
   ]
  },
  {
   "cell_type": "code",
   "execution_count": 61,
   "id": "0dcd9bde-f6ee-4a60-ba8e-6db1dad0d9f9",
   "metadata": {},
   "outputs": [
    {
     "data": {
      "text/latex": [
       "$\\displaystyle x^{\\sqrt{x}} = 4$"
      ],
      "text/plain": [
       "<IPython.core.display.Math object>"
      ]
     },
     "metadata": {},
     "output_type": "display_data"
    }
   ],
   "source": [
    "# x=y*y\n",
    "Q=MQ(kpow(x,sqrs(x)),4)"
   ]
  },
  {
   "cell_type": "code",
   "execution_count": 62,
   "id": "f87e65cc-1805-4117-848a-7a142446c97f",
   "metadata": {},
   "outputs": [
    {
     "data": {
      "text/latex": [
       "$\\displaystyle y^{2 y} = 4$"
      ],
      "text/plain": [
       "<IPython.core.display.Math object>"
      ]
     },
     "metadata": {},
     "output_type": "display_data"
    }
   ],
   "source": [
    "# x=y*y\n",
    "Q.set(Q.left,kpow(y,2*y))"
   ]
  },
  {
   "cell_type": "code",
   "execution_count": 63,
   "id": "d6ce6e20-c814-4308-8ba5-d6a0fb7afa2f",
   "metadata": {},
   "outputs": [
    {
     "data": {
      "text/latex": [
       "$\\displaystyle \\sqrt{y^{2 y}} = 2$"
      ],
      "text/plain": [
       "<IPython.core.display.Math object>"
      ]
     },
     "metadata": {},
     "output_type": "display_data"
    }
   ],
   "source": [
    "Q.Rpow(2)"
   ]
  },
  {
   "cell_type": "code",
   "execution_count": 64,
   "id": "b0a1d31c-a654-43d2-875c-65d18b1d16d9",
   "metadata": {},
   "outputs": [
    {
     "data": {
      "text/latex": [
       "$\\displaystyle y^{y} = 2$"
      ],
      "text/plain": [
       "<IPython.core.display.Math object>"
      ]
     },
     "metadata": {},
     "output_type": "display_data"
    }
   ],
   "source": [
    "Q.simplifyexp()"
   ]
  },
  {
   "attachments": {
    "3fbdb13e-e4df-4e15-a387-9193acee52bf.png": {
     "image/png": "[encoded data removed]"
    }
   },
   "cell_type": "markdown",
   "id": "bc594506-5963-4c5e-b5ae-bed3d87860e8",
   "metadata": {},
   "source": [
    "![image.png](attachment:3fbdb13e-e4df-4e15-a387-9193acee52bf.png)"
   ]
  },
  {
   "cell_type": "code",
   "execution_count": 65,
   "id": "83a7185c-0d37-4f64-af79-35d7f378aa46",
   "metadata": {},
   "outputs": [
    {
     "data": {
      "text/latex": [
       "$\\displaystyle e2 =x^{y + \\frac{1}{2}}$"
      ],
      "text/plain": [
       "<IPython.core.display.Math object>"
      ]
     },
     "metadata": {},
     "output_type": "display_data"
    }
   ],
   "source": [
    "e2=MyEq(kpow(x,y+frs(1,2)),'e2')"
   ]
  },
  {
   "cell_type": "code",
   "execution_count": 66,
   "id": "1908a7d2-7bce-4720-af48-5234fd0c6076",
   "metadata": {},
   "outputs": [
    {
     "data": {
      "text/latex": [
       "$\\displaystyle e2 =\\left(y^{2}\\right)^{y + \\frac{1}{2}}$"
      ],
      "text/plain": [
       "<IPython.core.display.Math object>"
      ]
     },
     "metadata": {},
     "output_type": "display_data"
    }
   ],
   "source": [
    "e2.set(x,y*y)"
   ]
  },
  {
   "cell_type": "code",
   "execution_count": 67,
   "id": "78176fec-93c2-4264-9591-7ba32f054674",
   "metadata": {},
   "outputs": [
    {
     "data": {
      "text/latex": [
       "$\\displaystyle e2 =y^{2 y + 1}$"
      ],
      "text/plain": [
       "<IPython.core.display.Math object>"
      ]
     },
     "metadata": {},
     "output_type": "display_data"
    }
   ],
   "source": [
    "e2.mulexpo()"
   ]
  },
  {
   "cell_type": "code",
   "execution_count": 68,
   "id": "392f6792-1c85-41a1-9d94-1942b08c81e7",
   "metadata": {},
   "outputs": [
    {
     "data": {
      "text/latex": [
       "$\\displaystyle e2 =y^{2 y + 1}$"
      ],
      "text/plain": [
       "<IPython.core.display.Math object>"
      ]
     },
     "metadata": {},
     "output_type": "display_data"
    }
   ],
   "source": [
    "e2.factorexp()"
   ]
  },
  {
   "cell_type": "code",
   "execution_count": 69,
   "id": "e7709918-591b-40bb-b2e4-2f92f52d9367",
   "metadata": {},
   "outputs": [
    {
     "data": {
      "text/latex": [
       "$\\displaystyle e2 =4 y$"
      ],
      "text/plain": [
       "<IPython.core.display.Math object>"
      ]
     },
     "metadata": {},
     "output_type": "display_data"
    }
   ],
   "source": [
    "e2.set(y**y,2)"
   ]
  },
  {
   "attachments": {
    "8d09da6a-6aa6-475c-87fe-12dee4537bd0.png": {
     "image/png": "[encoded data removed]"
    }
   },
   "cell_type": "markdown",
   "id": "5df7bffd-72b0-49a7-ae64-0ecbc333aa9f",
   "metadata": {},
   "source": [
    "![image.png](attachment:8d09da6a-6aa6-475c-87fe-12dee4537bd0.png)"
   ]
  },
  {
   "cell_type": "code",
   "execution_count": 70,
   "id": "267e4eb1-0fe4-4557-9a74-fdbe8c845759",
   "metadata": {},
   "outputs": [
    {
     "data": {
      "text/latex": [
       "$\\displaystyle e3 =\\left(x^{4 y}\\right)^{\\sqrt{x}}$"
      ],
      "text/plain": [
       "<IPython.core.display.Math object>"
      ]
     },
     "metadata": {},
     "output_type": "display_data"
    }
   ],
   "source": [
    "# we will use a=1 \n",
    "e3=MyEq(kpow(kpow(x,e2*1),sqrs(x)),'e3')"
   ]
  },
  {
   "cell_type": "code",
   "execution_count": 71,
   "id": "b0208fe2-c1b0-4432-8343-f62b5a79051f",
   "metadata": {},
   "outputs": [
    {
     "data": {
      "text/latex": [
       "$\\displaystyle e3 =x^{4 \\sqrt{x} y}$"
      ],
      "text/plain": [
       "<IPython.core.display.Math object>"
      ]
     },
     "metadata": {},
     "output_type": "display_data"
    }
   ],
   "source": [
    "e3.mulexpo()"
   ]
  },
  {
   "cell_type": "code",
   "execution_count": 72,
   "id": "2de87074-9e46-4e45-8e2f-e37c9eec145c",
   "metadata": {},
   "outputs": [
    {
     "data": {
      "text/latex": [
       "$\\displaystyle e3 =x^{4 x}$"
      ],
      "text/plain": [
       "<IPython.core.display.Math object>"
      ]
     },
     "metadata": {},
     "output_type": "display_data"
    }
   ],
   "source": [
    "e3.set(y,sqrs(x))"
   ]
  },
  {
   "cell_type": "code",
   "execution_count": 73,
   "id": "0e56e8ff-1cbf-487e-adab-d576eb6cc8dc",
   "metadata": {},
   "outputs": [
    {
     "data": {
      "text/latex": [
       "$\\displaystyle e3 =x^{4 x}$"
      ],
      "text/plain": [
       "<IPython.core.display.Math object>"
      ]
     },
     "metadata": {},
     "output_type": "display_data"
    }
   ],
   "source": [
    "e3.powexpand(x)"
   ]
  },
  {
   "cell_type": "code",
   "execution_count": 74,
   "id": "8c4a3b71-94fa-49e9-ba15-2b26b3e07ca0",
   "metadata": {},
   "outputs": [
    {
     "data": {
      "text/latex": [
       "$\\displaystyle e3 =16$"
      ],
      "text/plain": [
       "<IPython.core.display.Math object>"
      ]
     },
     "metadata": {},
     "output_type": "display_data"
    }
   ],
   "source": [
    "e3.ksym=2**4;e3.s()"
   ]
  },
  {
   "attachments": {
    "5cdba332-20d4-417d-b947-9be92022f0fe.png": {
     "image/png": "[encoded data removed]"
    }
   },
   "cell_type": "markdown",
   "id": "1ed0772e-6b88-4e6b-8b32-28cfb0bfb749",
   "metadata": {},
   "source": [
    "![image.png](attachment:5cdba332-20d4-417d-b947-9be92022f0fe.png)"
   ]
  },
  {
   "attachments": {
    "1494b4f6-8275-4f7c-915a-ea865f4e0e41.png": {
     "image/png": "[encoded data removed]"
    }
   },
   "cell_type": "markdown",
   "id": "39f6533b-64e4-4b6c-8f61-2e42109eb0f9",
   "metadata": {},
   "source": [
    "![image.png](attachment:1494b4f6-8275-4f7c-915a-ea865f4e0e41.png)"
   ]
  },
  {
   "attachments": {
    "8bd895b7-0cd2-4f0a-9639-485a2209d1b8.png": {
     "image/png": "[encoded data removed]"
    }
   },
   "cell_type": "markdown",
   "id": "82ad7be6-8f58-448b-920b-29dbbd35b47e",
   "metadata": {},
   "source": [
    "![image.png](attachment:8bd895b7-0cd2-4f0a-9639-485a2209d1b8.png)"
   ]
  },
  {
   "cell_type": "code",
   "execution_count": 75,
   "id": "3755c5e2-be0b-4e39-b7a6-e56c26f07f57",
   "metadata": {
    "tags": []
   },
   "outputs": [],
   "source": [
    "# This scrip initializes all variables. \n",
    "import sys\n",
    "sys.path.insert(0, './Libaldo')\n",
    "from Libaldo import *"
   ]
  },
  {
   "attachments": {
    "2c53e251-0f4b-4dae-ab86-1c991b37ce47.png": {
     "image/png": "[encoded data removed]"
    }
   },
   "cell_type": "markdown",
   "id": "7b37f7fb-e844-49c0-8d83-837351b93d33",
   "metadata": {},
   "source": [
    "![image.png](attachment:2c53e251-0f4b-4dae-ab86-1c991b37ce47.png)"
   ]
  },
  {
   "cell_type": "code",
   "execution_count": 76,
   "id": "7ba1d73e-fc6a-45ab-b384-041955d9362e",
   "metadata": {},
   "outputs": [
    {
     "data": {
      "text/latex": [
       "$\\displaystyle e1 =x^{x + 1}$"
      ],
      "text/plain": [
       "<IPython.core.display.Math object>"
      ]
     },
     "metadata": {},
     "output_type": "display_data"
    }
   ],
   "source": [
    "e1=MyEq(kpow(x,1+x),'e1')"
   ]
  },
  {
   "cell_type": "code",
   "execution_count": 77,
   "id": "b5804aaf-4cdf-45a9-a919-ed16d380766e",
   "metadata": {},
   "outputs": [
    {
     "data": {
      "text/latex": [
       "$\\displaystyle e1 =2 x$"
      ],
      "text/plain": [
       "<IPython.core.display.Math object>"
      ]
     },
     "metadata": {},
     "output_type": "display_data"
    }
   ],
   "source": [
    "e1.set(kpow(x,x),2)"
   ]
  },
  {
   "attachments": {
    "b842f6e5-13e6-434e-beb8-bf050c6f37f0.png": {
     "image/png": "[encoded data removed]"
    }
   },
   "cell_type": "markdown",
   "id": "e1883df3-2435-4771-9a6f-37414d62fe37",
   "metadata": {},
   "source": [
    "![image.png](attachment:b842f6e5-13e6-434e-beb8-bf050c6f37f0.png)"
   ]
  },
  {
   "cell_type": "code",
   "execution_count": 78,
   "id": "5486e8c2-16e8-45f5-90cf-423c5f96da78",
   "metadata": {},
   "outputs": [
    {
     "data": {
      "text/latex": [
       "$\\displaystyle e2 =x^{4 x + 1}$"
      ],
      "text/plain": [
       "<IPython.core.display.Math object>"
      ]
     },
     "metadata": {},
     "output_type": "display_data"
    }
   ],
   "source": [
    "e2=MyEq(kpow(x,1+2*e1),'e2')"
   ]
  },
  {
   "cell_type": "code",
   "execution_count": 79,
   "id": "e64d4531-40c8-4d46-8638-a3c527d55b4a",
   "metadata": {},
   "outputs": [
    {
     "data": {
      "text/latex": [
       "$\\displaystyle e2 =16 x$"
      ],
      "text/plain": [
       "<IPython.core.display.Math object>"
      ]
     },
     "metadata": {},
     "output_type": "display_data"
    }
   ],
   "source": [
    "e2.set(kpow(x,x),2)"
   ]
  },
  {
   "attachments": {
    "a58b5768-a48f-4dc9-8fc8-bfc2b872b8cd.png": {
     "image/png": "[encoded data removed]"
    }
   },
   "cell_type": "markdown",
   "id": "3023e10c-ec9b-43b1-96c8-c570310835ee",
   "metadata": {},
   "source": [
    "![image.png](attachment:a58b5768-a48f-4dc9-8fc8-bfc2b872b8cd.png)"
   ]
  },
  {
   "cell_type": "code",
   "execution_count": 80,
   "id": "ca3b5292-9980-4f92-b63a-a9c6a46c252a",
   "metadata": {},
   "outputs": [
    {
     "data": {
      "text/latex": [
       "$\\displaystyle e3 =x^{16 x}$"
      ],
      "text/plain": [
       "<IPython.core.display.Math object>"
      ]
     },
     "metadata": {},
     "output_type": "display_data"
    }
   ],
   "source": [
    "e3=MyEq(kpow(x,e2*1),'e3')"
   ]
  },
  {
   "cell_type": "code",
   "execution_count": 81,
   "id": "ecd64cb0-792e-4d7a-9857-10824f5c277b",
   "metadata": {},
   "outputs": [
    {
     "data": {
      "text/latex": [
       "$\\displaystyle e3 =65536$"
      ],
      "text/plain": [
       "<IPython.core.display.Math object>"
      ]
     },
     "metadata": {},
     "output_type": "display_data"
    }
   ],
   "source": [
    "e3.ksym=kpow(2,16)\n",
    "e3.s()"
   ]
  },
  {
   "attachments": {
    "5cdba332-20d4-417d-b947-9be92022f0fe.png": {
     "image/png": "[encoded data removed]"
    }
   },
   "cell_type": "markdown",
   "id": "3dd4fc59-83d0-48bd-97b9-bde173ce1cdc",
   "metadata": {},
   "source": [
    "![image.png](attachment:5cdba332-20d4-417d-b947-9be92022f0fe.png)"
   ]
  },
  {
   "attachments": {
    "fc99cb5e-1a01-4fbe-a0ea-3ed4e59b647e.png": {
     "image/png": "[encoded data removed]"
    }
   },
   "cell_type": "markdown",
   "id": "2a8a96b8-da44-4938-a085-548a8638e9e9",
   "metadata": {},
   "source": [
    "![image.png](attachment:fc99cb5e-1a01-4fbe-a0ea-3ed4e59b647e.png)"
   ]
  },
  {
   "attachments": {
    "8bd895b7-0cd2-4f0a-9639-485a2209d1b8.png": {
     "image/png": "[encoded data removed]"
    }
   },
   "cell_type": "markdown",
   "id": "4c3f4859-8095-41c2-961f-93787172670e",
   "metadata": {},
   "source": [
    "![image.png](attachment:8bd895b7-0cd2-4f0a-9639-485a2209d1b8.png)"
   ]
  },
  {
   "cell_type": "code",
   "execution_count": 82,
   "id": "615f9dd5-ebb1-4c81-a911-edba71221611",
   "metadata": {
    "tags": []
   },
   "outputs": [],
   "source": [
    "# This scrip initializes all variables. \n",
    "import sys\n",
    "sys.path.insert(0, './Libaldo')\n",
    "from Libaldo import *"
   ]
  },
  {
   "cell_type": "code",
   "execution_count": 83,
   "id": "d365a46d-489b-48d5-bedf-aeac0b6f8833",
   "metadata": {},
   "outputs": [
    {
     "data": {
      "text/latex": [
       "$\\displaystyle e1 =4^{y} + 5^{y}$"
      ],
      "text/plain": [
       "<IPython.core.display.Math object>"
      ]
     },
     "metadata": {},
     "output_type": "display_data"
    }
   ],
   "source": [
    "e1=MyEq(kpow(5,y)+kpow(4,y),'e1')"
   ]
  },
  {
   "cell_type": "code",
   "execution_count": 84,
   "id": "9cd44687-9255-4765-a140-dd12c077fe5a",
   "metadata": {},
   "outputs": [
    {
     "data": {
      "image/png": "[encoded data removed]",
      "text/latex": [
       "$\\displaystyle 41$"
      ],
      "text/plain": [
       "41"
      ]
     },
     "execution_count": 84,
     "metadata": {},
     "output_type": "execute_result"
    }
   ],
   "source": [
    "e1(y=2)"
   ]
  },
  {
   "cell_type": "code",
   "execution_count": 85,
   "id": "cd34de6f-45e8-4ebb-ba93-85f06f76c641",
   "metadata": {},
   "outputs": [
    {
     "data": {
      "text/latex": [
       "$\\displaystyle e1 =x^{5 x^{1 - x}}$"
      ],
      "text/plain": [
       "<IPython.core.display.Math object>"
      ]
     },
     "metadata": {},
     "output_type": "display_data"
    },
    {
     "data": {
      "text/latex": [
       "$\\displaystyle e2 =x^{x^{1 - x}}$"
      ],
      "text/plain": [
       "<IPython.core.display.Math object>"
      ]
     },
     "metadata": {},
     "output_type": "display_data"
    }
   ],
   "source": [
    "e1=MyEq(kpow(x,5,kpow(x,x-1)),'e1')\n",
    "e2=MyEq(kpow(x,1,kpow(x,x-1)),'e2')"
   ]
  },
  {
   "cell_type": "code",
   "execution_count": 86,
   "id": "b83a2bd2-e3d1-4d30-9b4e-6918095cb323",
   "metadata": {},
   "outputs": [
    {
     "data": {
      "text/latex": [
       "$\\displaystyle e3 =x^{5 x^{1 - x}} + x^{x^{1 - x}}$"
      ],
      "text/plain": [
       "<IPython.core.display.Math object>"
      ]
     },
     "metadata": {},
     "output_type": "display_data"
    }
   ],
   "source": [
    "e3=MyEq(e1+e2,'e3')"
   ]
  },
  {
   "cell_type": "code",
   "execution_count": 87,
   "id": "a52ef259-4b5a-4366-a859-ed958f639c22",
   "metadata": {},
   "outputs": [
    {
     "data": {
      "text/latex": [
       "$\\displaystyle e3 =x^{5 x x^{- x}} + x^{x x^{- x}}$"
      ],
      "text/plain": [
       "<IPython.core.display.Math object>"
      ]
     },
     "metadata": {},
     "output_type": "display_data"
    }
   ],
   "source": [
    "e3.expand()"
   ]
  },
  {
   "cell_type": "code",
   "execution_count": 88,
   "id": "db3cc628-e365-4b01-b682-a55f49ae89c4",
   "metadata": {},
   "outputs": [
    {
     "data": {
      "text/latex": [
       "$\\displaystyle e3 =x^{\\frac{5 x}{2}} + x^{\\frac{x}{2}}$"
      ],
      "text/plain": [
       "<IPython.core.display.Math object>"
      ]
     },
     "metadata": {},
     "output_type": "display_data"
    }
   ],
   "source": [
    "e3.set(x**x,2)"
   ]
  },
  {
   "cell_type": "code",
   "execution_count": 89,
   "id": "d2236f01-67b9-4f2b-87b7-8880c250343b",
   "metadata": {},
   "outputs": [
    {
     "data": {
      "text/latex": [
       "$\\displaystyle e3 =\\left(x^{x}\\right)^{\\frac{5}{2}} + \\sqrt{x^{x}}$"
      ],
      "text/plain": [
       "<IPython.core.display.Math object>"
      ]
     },
     "metadata": {},
     "output_type": "display_data"
    }
   ],
   "source": [
    "e3.powexpand(x)"
   ]
  },
  {
   "cell_type": "code",
   "execution_count": 90,
   "id": "9a7f77ad-23e1-4261-a884-0d24b1267be3",
   "metadata": {},
   "outputs": [
    {
     "data": {
      "text/latex": [
       "$\\displaystyle e3 =5 \\sqrt{2}$"
      ],
      "text/plain": [
       "<IPython.core.display.Math object>"
      ]
     },
     "metadata": {},
     "output_type": "display_data"
    }
   ],
   "source": [
    "e3.set(x**x,2)"
   ]
  },
  {
   "attachments": {
    "27d139d7-e8ea-4d95-9b4b-74537005edaa.png": {
     "image/png": "[encoded data removed]"
    }
   },
   "cell_type": "markdown",
   "id": "7fefd514-d7cb-4bc8-8df8-120741d3f419",
   "metadata": {},
   "source": [
    "![image.png](attachment:27d139d7-e8ea-4d95-9b4b-74537005edaa.png)"
   ]
  },
  {
   "cell_type": "code",
   "execution_count": 91,
   "id": "6c45f664-08a9-4488-a6f9-ba64159a5d9d",
   "metadata": {},
   "outputs": [
    {
     "data": {
      "text/latex": [
       "$\\displaystyle e3 =\\left(5 \\sqrt{2}\\right)^{x^{x}}$"
      ],
      "text/plain": [
       "<IPython.core.display.Math object>"
      ]
     },
     "metadata": {},
     "output_type": "display_data"
    }
   ],
   "source": [
    "e3.Pow(x**x)"
   ]
  },
  {
   "cell_type": "code",
   "execution_count": 92,
   "id": "6d344a3c-f4da-490d-9f00-252e6cd9ed22",
   "metadata": {},
   "outputs": [
    {
     "data": {
      "text/latex": [
       "$\\displaystyle e3 =50$"
      ],
      "text/plain": [
       "<IPython.core.display.Math object>"
      ]
     },
     "metadata": {},
     "output_type": "display_data"
    }
   ],
   "source": [
    "e3.set(x**x,2,kope=' ')"
   ]
  },
  {
   "attachments": {
    "5cdba332-20d4-417d-b947-9be92022f0fe.png": {
     "image/png": "[encoded data removed]"
    }
   },
   "cell_type": "markdown",
   "id": "4c312c61-9e10-42e2-8539-1ce29eb9c25b",
   "metadata": {},
   "source": [
    "![image.png](attachment:5cdba332-20d4-417d-b947-9be92022f0fe.png)"
   ]
  },
  {
   "attachments": {
    "c94224e5-7bb0-4d18-a02c-f0de5cfe1640.png": {
     "image/png": "[encoded data removed]"
    }
   },
   "cell_type": "markdown",
   "id": "4658bdb7-f41b-49d9-99ac-8d1b73e8382f",
   "metadata": {},
   "source": [
    "![image.png](attachment:c94224e5-7bb0-4d18-a02c-f0de5cfe1640.png)"
   ]
  },
  {
   "attachments": {
    "8bd895b7-0cd2-4f0a-9639-485a2209d1b8.png": {
     "image/png": "[encoded data removed]"
    }
   },
   "cell_type": "markdown",
   "id": "705c04c5-ca13-4fa3-9eeb-81178586ef0b",
   "metadata": {},
   "source": [
    "![image.png](attachment:8bd895b7-0cd2-4f0a-9639-485a2209d1b8.png)"
   ]
  },
  {
   "cell_type": "code",
   "execution_count": 93,
   "id": "ab3e558a-81c9-43ff-ad5c-baab89ac1d0f",
   "metadata": {
    "tags": []
   },
   "outputs": [],
   "source": [
    "# This scrip initializes all variables.  \n",
    "import sys\n",
    "sys.path.insert(0, './Libaldo')\n",
    "from Libaldo import *"
   ]
  },
  {
   "cell_type": "code",
   "execution_count": 94,
   "id": "4a71514f-e2af-40d1-89a6-2415e1d6cbfd",
   "metadata": {
    "tags": []
   },
   "outputs": [
    {
     "data": {
      "text/latex": [
       "$\\displaystyle x^{\\frac{1}{m + 3}} = \\left(2^{m + 2}\\right)^{m + 5}$"
      ],
      "text/plain": [
       "<IPython.core.display.Math object>"
      ]
     },
     "metadata": {},
     "output_type": "display_data"
    }
   ],
   "source": [
    "X=MQ(sqrs(x,(m+3)),kpow(kpow(2,m+2),(m+5)),'X')"
   ]
  },
  {
   "cell_type": "code",
   "execution_count": 95,
   "id": "6edfd4ac-17c3-44ad-847e-8e62e3caaac9",
   "metadata": {},
   "outputs": [
    {
     "data": {
      "text/latex": [
       "$\\displaystyle \\left(x^{\\frac{1}{m + 3}}\\right)^{m + 3} = \\left(\\left(2^{m + 2}\\right)^{m + 5}\\right)^{m + 3}$"
      ],
      "text/plain": [
       "<IPython.core.display.Math object>"
      ]
     },
     "metadata": {},
     "output_type": "display_data"
    }
   ],
   "source": [
    "X.Pow(m+3)"
   ]
  },
  {
   "cell_type": "code",
   "execution_count": 96,
   "id": "ab875c72-76ec-482a-b6e2-3a2924b75331",
   "metadata": {},
   "outputs": [
    {
     "data": {
      "text/latex": [
       "$\\displaystyle x = \\left(2^{m + 2}\\right)^{\\left(m + 3\\right) \\left(m + 5\\right)}$"
      ],
      "text/plain": [
       "<IPython.core.display.Math object>"
      ]
     },
     "metadata": {},
     "output_type": "display_data"
    }
   ],
   "source": [
    "X.mulexpo()"
   ]
  },
  {
   "cell_type": "code",
   "execution_count": 97,
   "id": "3b0a3e6d-a635-4338-aad2-bfe9d52b84a3",
   "metadata": {},
   "outputs": [
    {
     "data": {
      "text/latex": [
       "$\\displaystyle x = 2^{\\left(m + 2\\right) \\left(m + 3\\right) \\left(m + 5\\right)}$"
      ],
      "text/plain": [
       "<IPython.core.display.Math object>"
      ]
     },
     "metadata": {},
     "output_type": "display_data"
    }
   ],
   "source": [
    "X.mulexpo()"
   ]
  },
  {
   "cell_type": "code",
   "execution_count": 98,
   "id": "d516b25e-554d-48c4-8891-53c899440790",
   "metadata": {},
   "outputs": [
    {
     "data": {
      "text/latex": [
       "$\\displaystyle x =2^{\\left(m + 2\\right) \\left(m + 3\\right) \\left(m + 5\\right)}$"
      ],
      "text/plain": [
       "<IPython.core.display.Math object>"
      ]
     },
     "metadata": {},
     "output_type": "display_data"
    }
   ],
   "source": [
    "x=X.solve(x)"
   ]
  },
  {
   "cell_type": "code",
   "execution_count": 99,
   "id": "adc466a8-ef29-4963-8a5f-c21769b39177",
   "metadata": {},
   "outputs": [
    {
     "data": {
      "text/latex": [
       "$\\displaystyle \\left(\\frac{1}{y}\\right)^{\\frac{1}{m + 7}} = 2^{m \\left(m + 3\\right)}$"
      ],
      "text/plain": [
       "<IPython.core.display.Math object>"
      ]
     },
     "metadata": {},
     "output_type": "display_data"
    }
   ],
   "source": [
    "Y=MQ(sqrs(frs(1,y),(m+7)),kpow(2,m*(m+3)),'Y')"
   ]
  },
  {
   "cell_type": "code",
   "execution_count": 100,
   "id": "a4fa247c-21c5-4e42-9727-74055354baed",
   "metadata": {
    "tags": []
   },
   "outputs": [
    {
     "data": {
      "text/latex": [
       "$\\displaystyle \\left(\\frac{1}{y}\\right)^{\\frac{1}{m + 7}} = 2^{m^{2} + 3 m}$"
      ],
      "text/plain": [
       "<IPython.core.display.Math object>"
      ]
     },
     "metadata": {},
     "output_type": "display_data"
    }
   ],
   "source": [
    "Y.expandexp()"
   ]
  },
  {
   "cell_type": "code",
   "execution_count": 101,
   "id": "3fc2a67e-b36d-432a-9a55-49eb6408deb9",
   "metadata": {},
   "outputs": [
    {
     "data": {
      "text/latex": [
       "$\\displaystyle \\left(\\left(\\frac{1}{y}\\right)^{\\frac{1}{m + 7}}\\right)^{- m - 7} = \\left(2^{m^{2} + 3 m}\\right)^{- m - 7}$"
      ],
      "text/plain": [
       "<IPython.core.display.Math object>"
      ]
     },
     "metadata": {},
     "output_type": "display_data"
    }
   ],
   "source": [
    "Y.Pow(-(m+7))"
   ]
  },
  {
   "cell_type": "code",
   "execution_count": 102,
   "id": "46d96132-41f1-4ba1-83d9-053bc6f39ee5",
   "metadata": {
    "tags": []
   },
   "outputs": [
    {
     "data": {
      "text/latex": [
       "$\\displaystyle \\left(\\frac{1}{y}\\right)^{\\frac{- m - 7}{m + 7}} = 2^{\\left(- m - 7\\right) \\left(m^{2} + 3 m\\right)}$"
      ],
      "text/plain": [
       "<IPython.core.display.Math object>"
      ]
     },
     "metadata": {},
     "output_type": "display_data"
    }
   ],
   "source": [
    "Y.mulexpo()"
   ]
  },
  {
   "cell_type": "code",
   "execution_count": 103,
   "id": "7ed58010-5d92-49c4-9660-b47982603dc9",
   "metadata": {},
   "outputs": [
    {
     "data": {
      "text/latex": [
       "$\\displaystyle y = 2^{- m \\left(m + 3\\right) \\left(m + 7\\right)}$"
      ],
      "text/plain": [
       "<IPython.core.display.Math object>"
      ]
     },
     "metadata": {},
     "output_type": "display_data"
    }
   ],
   "source": [
    "Y.simplifyexp()"
   ]
  },
  {
   "cell_type": "code",
   "execution_count": 104,
   "id": "a69d866f-5f53-4303-b209-5a2f15fae650",
   "metadata": {},
   "outputs": [
    {
     "data": {
      "text/latex": [
       "$\\displaystyle y =2^{m \\left(- m^{2} - 10 m - 21\\right)}$"
      ],
      "text/plain": [
       "<IPython.core.display.Math object>"
      ]
     },
     "metadata": {},
     "output_type": "display_data"
    }
   ],
   "source": [
    "y=Y.solve(y)"
   ]
  },
  {
   "cell_type": "code",
   "execution_count": 105,
   "id": "4b94a06e-66c1-458f-9fac-db7d191cbfb2",
   "metadata": {},
   "outputs": [
    {
     "data": {
      "text/latex": [
       "$\\displaystyle z =2^{- 10 m - 35}$"
      ],
      "text/plain": [
       "<IPython.core.display.Math object>"
      ]
     },
     "metadata": {},
     "output_type": "display_data"
    }
   ],
   "source": [
    "z=MyEq(kpow(2,-5*(2*m+7)),'z')"
   ]
  },
  {
   "cell_type": "code",
   "execution_count": 106,
   "id": "f405daa9-b286-45a6-8b29-82b00ad2ab3a",
   "metadata": {},
   "outputs": [
    {
     "data": {
      "text/latex": [
       "$\\displaystyle Q =2^{m \\left(- m^{2} - 10 m - 21\\right)} 2^{\\left(m + 2\\right) \\left(m + 3\\right) \\left(m + 5\\right)} 2^{- 10 m - 35}$"
      ],
      "text/plain": [
       "<IPython.core.display.Math object>"
      ]
     },
     "metadata": {},
     "output_type": "display_data"
    }
   ],
   "source": [
    "Q=MyEq(x*y*z,'Q')"
   ]
  },
  {
   "cell_type": "code",
   "execution_count": 107,
   "id": "2bb689d5-3cf9-4afe-a745-818a7f2ec83c",
   "metadata": {},
   "outputs": [
    {
     "data": {
      "text/latex": [
       "$\\displaystyle Q =\\frac{1}{32}$"
      ],
      "text/plain": [
       "<IPython.core.display.Math object>"
      ]
     },
     "metadata": {},
     "output_type": "display_data"
    }
   ],
   "source": [
    "Q.simplify()"
   ]
  },
  {
   "attachments": {
    "5cdba332-20d4-417d-b947-9be92022f0fe.png": {
     "image/png": "[encoded data removed]"
    }
   },
   "cell_type": "markdown",
   "id": "67dda84a-57ef-4bf4-935b-1ae3fca51eca",
   "metadata": {},
   "source": [
    "![image.png](attachment:5cdba332-20d4-417d-b947-9be92022f0fe.png)"
   ]
  },
  {
   "attachments": {
    "41b957b7-470e-497e-9ce2-48b15f3c5549.png": {
     "image/png": "[encoded data removed]"
    }
   },
   "cell_type": "markdown",
   "id": "8318259a-7292-4549-b390-8c24b09b779d",
   "metadata": {},
   "source": [
    "![image.png](attachment:41b957b7-470e-497e-9ce2-48b15f3c5549.png)"
   ]
  },
  {
   "attachments": {
    "8bd895b7-0cd2-4f0a-9639-485a2209d1b8.png": {
     "image/png": "[encoded data removed]"
    }
   },
   "cell_type": "markdown",
   "id": "94c4b5bf-563f-4ba4-849e-9dd65ebda304",
   "metadata": {},
   "source": [
    "![image.png](attachment:8bd895b7-0cd2-4f0a-9639-485a2209d1b8.png)"
   ]
  },
  {
   "cell_type": "code",
   "execution_count": 108,
   "id": "d878748f-11ee-4d37-ae6c-36a8869047d8",
   "metadata": {
    "tags": []
   },
   "outputs": [],
   "source": [
    "# This scrip initializes all variables.  \n",
    "import sys\n",
    "sys.path.insert(0, './Libaldo')\n",
    "from Libaldo import *"
   ]
  },
  {
   "cell_type": "code",
   "execution_count": 109,
   "id": "c69a5d05-110e-4b18-88f9-3ba7583de1b0",
   "metadata": {},
   "outputs": [
    {
     "data": {
      "text/latex": [
       "$\\displaystyle e1 =- x^{2} + x + 13$"
      ],
      "text/plain": [
       "<IPython.core.display.Math object>"
      ]
     },
     "metadata": {},
     "output_type": "display_data"
    }
   ],
   "source": [
    "e1=MyEq(x-x*x+13,'e1')"
   ]
  },
  {
   "cell_type": "code",
   "execution_count": 110,
   "id": "3035eb5f-9e50-4893-94a2-8d41464a4c45",
   "metadata": {},
   "outputs": [
    {
     "data": {
      "text/latex": [
       "$\\displaystyle e1 =- x^{2} + x + 13$"
      ],
      "text/plain": [
       "<IPython.core.display.Math object>"
      ]
     },
     "metadata": {},
     "output_type": "display_data"
    }
   ],
   "source": [
    "e1.factor()"
   ]
  },
  {
   "cell_type": "code",
   "execution_count": 111,
   "id": "62ec3358-ebc9-4460-aec8-d7d4879241db",
   "metadata": {},
   "outputs": [
    {
     "data": {
      "text/latex": [
       "$\\displaystyle x^{- x^{2} + x + 13} = x^{2} - 12$"
      ],
      "text/plain": [
       "<IPython.core.display.Math object>"
      ]
     },
     "metadata": {},
     "output_type": "display_data"
    }
   ],
   "source": [
    "P=MyEqEq(kpow(x,x-x*x+13),x*x-12)"
   ]
  },
  {
   "cell_type": "code",
   "execution_count": 112,
   "id": "ba834d8b-d93e-4b1e-808c-a8de93175a06",
   "metadata": {},
   "outputs": [
    {
     "data": {
      "text/latex": [
       "$\\displaystyle x^{- x} x^{- x^{2} + x + 13} = x^{- x} \\left(x^{2} - 12\\right)$"
      ],
      "text/plain": [
       "<IPython.core.display.Math object>"
      ]
     },
     "metadata": {},
     "output_type": "display_data"
    }
   ],
   "source": [
    "P.Div(x**x)"
   ]
  },
  {
   "cell_type": "code",
   "execution_count": 113,
   "id": "8c56f122-93da-476a-8ac1-a97974361674",
   "metadata": {},
   "outputs": [
    {
     "data": {
      "text/latex": [
       "$\\displaystyle x^{13 - x^{2}} = x^{- x} \\left(x^{2} - 12\\right)$"
      ],
      "text/plain": [
       "<IPython.core.display.Math object>"
      ]
     },
     "metadata": {},
     "output_type": "display_data"
    }
   ],
   "source": [
    "P.simplifyexp()"
   ]
  },
  {
   "cell_type": "code",
   "execution_count": 114,
   "id": "70a1b5d7-e073-472f-ad49-99205f624f09",
   "metadata": {},
   "outputs": [
    {
     "data": {
      "text/latex": [
       "$\\displaystyle \\frac{x^{13 - x^{2}}}{x} = \\frac{x^{- x} \\left(x^{2} - 12\\right)}{x}$"
      ],
      "text/plain": [
       "<IPython.core.display.Math object>"
      ]
     },
     "metadata": {},
     "output_type": "display_data"
    }
   ],
   "source": [
    "P.Div(x)"
   ]
  },
  {
   "cell_type": "code",
   "execution_count": 115,
   "id": "7266b3e0-05aa-4021-a9cf-febad99acb71",
   "metadata": {},
   "outputs": [
    {
     "data": {
      "text/latex": [
       "$\\displaystyle x^{12 - x^{2}} = \\frac{x^{- x} \\left(x^{2} - 12\\right)}{x}$"
      ],
      "text/plain": [
       "<IPython.core.display.Math object>"
      ]
     },
     "metadata": {},
     "output_type": "display_data"
    }
   ],
   "source": [
    "P.simplifyexp()"
   ]
  },
  {
   "cell_type": "code",
   "execution_count": 116,
   "id": "0b2932d2-3812-4e16-86ed-eb6516b36542",
   "metadata": {},
   "outputs": [
    {
     "data": {
      "text/latex": [
       "$\\displaystyle \\frac{x^{12 - x^{2}}}{x^{2} - 12} = \\frac{x^{- x}}{x}$"
      ],
      "text/plain": [
       "<IPython.core.display.Math object>"
      ]
     },
     "metadata": {},
     "output_type": "display_data"
    }
   ],
   "source": [
    "P.Div(x*x-12)"
   ]
  },
  {
   "cell_type": "code",
   "execution_count": 117,
   "id": "e71a6d61-6832-474e-a988-29a84f7cb25c",
   "metadata": {},
   "outputs": [
    {
     "data": {
      "text/latex": [
       "$\\displaystyle x^{2} - 12 = x$"
      ],
      "text/plain": [
       "<IPython.core.display.Math object>"
      ]
     },
     "metadata": {},
     "output_type": "display_data"
    }
   ],
   "source": [
    "#  then x**x-12=x\n",
    "Q=MQ(x*x-12,x)"
   ]
  },
  {
   "cell_type": "code",
   "execution_count": 118,
   "id": "188c04b5-fad6-4b02-b2e0-bebb27f78016",
   "metadata": {},
   "outputs": [
    {
     "data": {
      "text/latex": [
       "$\\displaystyle x^{2} - x - 12 = 0$"
      ],
      "text/plain": [
       "<IPython.core.display.Math object>"
      ]
     },
     "metadata": {},
     "output_type": "display_data"
    }
   ],
   "source": [
    "Q.Substrac(x)"
   ]
  },
  {
   "cell_type": "code",
   "execution_count": 119,
   "id": "308499bd-82aa-4cab-a924-ba3c22c7ab61",
   "metadata": {},
   "outputs": [
    {
     "data": {
      "text/latex": [
       "$\\displaystyle \\left(x - 4\\right) \\left(x + 3\\right) = 0$"
      ],
      "text/plain": [
       "<IPython.core.display.Math object>"
      ]
     },
     "metadata": {},
     "output_type": "display_data"
    }
   ],
   "source": [
    "Q.factor()"
   ]
  },
  {
   "cell_type": "code",
   "execution_count": 120,
   "id": "328d5009-9931-4d9b-912a-27e004f0cfb9",
   "metadata": {},
   "outputs": [
    {
     "data": {
      "image/png": "[encoded data removed]",
      "text/latex": [
       "$\\displaystyle \\left[ -3, \\  4\\right]$"
      ],
      "text/plain": [
       "[-3, 4]"
      ]
     },
     "execution_count": 120,
     "metadata": {},
     "output_type": "execute_result"
    }
   ],
   "source": [
    "solve(Q.L,x) "
   ]
  }
 ],
 "metadata": {
  "kernelspec": {
   "display_name": "Python 3",
   "language": "python",
   "name": "python3"
  },
  "language_info": {
   "codemirror_mode": {
    "name": "ipython",
    "version": 3
   },
   "file_extension": ".py",
   "mimetype": "text/x-python",
   "name": "python",
   "nbconvert_exporter": "python",
   "pygments_lexer": "ipython3",
   "version": "3.6.6"
  }
 },
 "nbformat": 4,
 "nbformat_minor": 5
}
